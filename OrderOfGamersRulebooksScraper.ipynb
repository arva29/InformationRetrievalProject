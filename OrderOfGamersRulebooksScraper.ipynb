{
 "cells": [
  {
   "cell_type": "code",
   "execution_count": 53,
   "id": "3988870b",
   "metadata": {},
   "outputs": [],
   "source": [
    "import os\n",
    "import requests\n",
    "from urllib.parse import urljoin\n",
    "from bs4 import BeautifulSoup\n",
    "\n",
    "url = 'https://www.orderofgamers.com/games/'\n",
    "reqs = requests.get(url)\n",
    "soup = BeautifulSoup(reqs.text, 'html.parser'\n",
    "base_link = 'https://www.orderofgamers.com/games/'\n",
    "\n",
    "#Save in a list all the link in the \"Games by title\" page of Order Of Gamers site\n",
    "urls = []\n",
    "for link in soup.find_all('a'):\n",
    "    if (link.get('href').startswith(url) and len(link.get('href')) > len(url)):\n",
    "        urls.append(link.get('href'))\n",
    "                     \n",
    "#If there is no such folder, the script will create one automatically\n",
    "folder_location = r'EOOG_rulebooks'\n",
    "if not os.path.exists(folder_location):os.mkdir(folder_location)\n",
    "\n",
    "for url in urls:\n",
    "    response = requests.get(url)\n",
    "    soup= BeautifulSoup(response.text, \"html.parser\")     \n",
    "    for link in soup.select(\"a[href$='.pdf']\"):\n",
    "        parser = BeautifulSoup(str(link), 'html.parser')\n",
    "        if parser.span != None:\n",
    "            span_text = parser.span.string\n",
    "            \n",
    "            #Check if the pdf to download is the one with the rules\n",
    "            if 'Rules' in span_text:\n",
    "                #Name the pdf files using the last portion of each link which are unique in this case\n",
    "                filename = os.path.join(folder_location,link['href'].split('/')[-1])\n",
    "                with open(filename, 'wb') as f:\n",
    "                    f.write(requests.get(urljoin(url,link['href'])).content)"
   ]
  }
 ],
 "metadata": {
  "kernelspec": {
   "display_name": "Python 3 (ipykernel)",
   "language": "python",
   "name": "python3"
  },
  "language_info": {
   "codemirror_mode": {
    "name": "ipython",
    "version": 3
   },
   "file_extension": ".py",
   "mimetype": "text/x-python",
   "name": "python",
   "nbconvert_exporter": "python",
   "pygments_lexer": "ipython3",
   "version": "3.9.7"
  }
 },
 "nbformat": 4,
 "nbformat_minor": 5
}
